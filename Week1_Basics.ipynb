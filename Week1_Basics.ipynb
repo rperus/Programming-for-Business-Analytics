{
 "cells": [
  {
   "cell_type": "markdown",
   "metadata": {},
   "source": [
    "# How to access the code from GitHub and open in Jupyter notebook?\n",
    "\n",
    "1. https://github.com/NavonilNM/BEMM459_RDBMS_NoSQL/ and click on week number (director)\n",
    "2. First click on Raw.\n",
    "3. Then, press ctrl+s to save it as . ipynb (Note that you'll have to manually type '. ipynb' after the file name to make this work, as files from GitHub are saved as text files as default.)\n",
    "4. Open jupyter notebook.\n",
    "5. Go to location where you saved .ipynb file.\n",
    "6. Open file, you will see the code."
   ]
  },
  {
   "cell_type": "code",
   "execution_count": 18,
   "metadata": {},
   "outputs": [
    {
     "name": "stdout",
     "output_type": "stream",
     "text": [
      "Welcome to BEMM459 Week 1 Cohort Learning\n"
     ]
    }
   ],
   "source": [
    "print(\"Welcome to BEMM459 Week 1 Cohort Learning\")"
   ]
  },
  {
   "cell_type": "markdown",
   "metadata": {},
   "source": [
    "### Multi-line examples"
   ]
  },
  {
   "cell_type": "code",
   "execution_count": 6,
   "metadata": {},
   "outputs": [
    {
     "name": "stdout",
     "output_type": "stream",
     "text": [
      "This is an example of multi-line text\n"
     ]
    }
   ],
   "source": [
    "print(\"This is \\\n",
    "an example of multi-line \\\n",
    "text\")"
   ]
  },
  {
   "cell_type": "code",
   "execution_count": 17,
   "metadata": {},
   "outputs": [
    {
     "data": {
      "text/plain": [
       "'This is another example of multi-line text but using a variable. The variable is then invoked in the next line'"
      ]
     },
     "execution_count": 17,
     "metadata": {},
     "output_type": "execute_result"
    }
   ],
   "source": [
    "var=\"This is another \\\n",
    "example of multi-line \\\n",
    "text but using a variable. \\\n",
    "The variable is then invoked in the next line\"\n",
    "#displaying variable value\n",
    "var"
   ]
  },
  {
   "cell_type": "markdown",
   "metadata": {},
   "source": [
    "### Loop"
   ]
  },
  {
   "cell_type": "code",
   "execution_count": 46,
   "metadata": {},
   "outputs": [
    {
     "name": "stdout",
     "output_type": "stream",
     "text": [
      "BEMM114\n",
      "BEMM159\n",
      "BEMM112\n",
      "BEMM459\n",
      "BEMM254\n",
      "BEMM123\n"
     ]
    }
   ],
   "source": [
    "# print the modules\n",
    "module = [\"BEMM114\", \"BEMM159\", \"BEMM112\", \"BEMM459\", \"BEMM254\", \"BEMM123\"]\n",
    "for i in modules:\n",
    "    print(i)"
   ]
  },
  {
   "cell_type": "code",
   "execution_count": 47,
   "metadata": {},
   "outputs": [
    {
     "name": "stdout",
     "output_type": "stream",
     "text": [
      "BEMM114\n",
      "Not found. Continuing to loop through the elements\n",
      "BEMM159\n",
      "Not found. Continuing to loop through the elements\n",
      "BEMM112\n",
      "Not found. Continuing to loop through the elements\n",
      "BEMM459\n",
      "Found. Now exiting\n"
     ]
    }
   ],
   "source": [
    "# loop through the modules and exit when BEMM459\n",
    "module = [\"BEMM114\", \"BEMM159\", \"BEMM112\", \"BEMM459\", \"BEMM254\", \"BEMM123\"]\n",
    "for i in modules:\n",
    "    print(i)\n",
    "    if i == \"BEMM459\":\n",
    "        print(\"Found. Now exiting\")\n",
    "        break\n",
    "    else:\n",
    "        print(\"Not found. Continuing to loop through the elements\")"
   ]
  },
  {
   "cell_type": "markdown",
   "metadata": {},
   "source": [
    "### Nested Loops\n"
   ]
  },
  {
   "cell_type": "code",
   "execution_count": 58,
   "metadata": {},
   "outputs": [
    {
     "name": "stdout",
     "output_type": "stream",
     "text": [
      "BEMM114 Assignment 1\n",
      "BEMM114 Assignment 2\n",
      "BEMM114 Final Exam\n",
      "\n",
      "\n",
      "BEMM159 Assignment 1\n",
      "BEMM159 Assignment 2\n",
      "BEMM159 Final Exam\n",
      "\n",
      "\n",
      "BEMM112 Assignment 1\n",
      "BEMM112 Assignment 2\n",
      "BEMM112 Final Exam\n",
      "\n",
      "\n",
      "BEMM459 Assignment 1\n",
      "BEMM459 Final Exam\n",
      "\n",
      "\n",
      "BEMM254 Assignment 1\n",
      "BEMM254 Assignment 2\n",
      "BEMM254 Final Exam\n",
      "\n",
      "\n",
      "BEMM123 Assignment 1\n",
      "BEMM123 Assignment 2\n",
      "BEMM123 Final Exam\n",
      "\n",
      "\n"
     ]
    }
   ],
   "source": [
    "module = [\"BEMM114\", \"BEMM159\", \"BEMM112\", \"BEMM459\", \"BEMM254\", \"BEMM123\"]\n",
    "assessment = [\"Assignment 1\", \"Assignment 2\", \"Final Exam\"]\n",
    "\n",
    "for i in module:\n",
    "    for j in assessment:\n",
    "        if i == \"BEMM459\":\n",
    "            if j == \"Assignment 2\":\n",
    "                continue   \n",
    "            else:\n",
    "                print(i, j)\n",
    "        else:\n",
    "            print(i, j)\n",
    "    print(\"\\n\")"
   ]
  },
  {
   "cell_type": "markdown",
   "metadata": {},
   "source": [
    "### Interactive"
   ]
  },
  {
   "cell_type": "code",
   "execution_count": 61,
   "metadata": {},
   "outputs": [
    {
     "name": "stdout",
     "output_type": "stream",
     "text": [
      "Please enter your name:Hello world\n",
      "Hello Hello world . This is the first class!\n"
     ]
    }
   ],
   "source": [
    "name=input('Please enter your name:')\n",
    "print ('Hello', name, '. This is the first class!')"
   ]
  },
  {
   "cell_type": "code",
   "execution_count": 62,
   "metadata": {},
   "outputs": [
    {
     "name": "stdout",
     "output_type": "stream",
     "text": [
      "Please enter length:5\n",
      "Please enter breadth:4\n",
      "length: 5 breadth: 4 area= 20\n"
     ]
    }
   ],
   "source": [
    "length=int(input('Please enter length:'))\n",
    "breadth=int(input('Please enter breadth:'))\n",
    "area=length*breadth\n",
    "print ('length:',length, 'breadth:', breadth, end=' ')\n",
    "print ('area=',area)"
   ]
  },
  {
   "cell_type": "code",
   "execution_count": null,
   "metadata": {},
   "outputs": [],
   "source": []
  }
 ],
 "metadata": {
  "kernelspec": {
   "display_name": "Python 3",
   "language": "python",
   "name": "python3"
  },
  "language_info": {
   "codemirror_mode": {
    "name": "ipython",
    "version": 3
   },
   "file_extension": ".py",
   "mimetype": "text/x-python",
   "name": "python",
   "nbconvert_exporter": "python",
   "pygments_lexer": "ipython3",
   "version": "3.5.6"
  }
 },
 "nbformat": 4,
 "nbformat_minor": 4
}

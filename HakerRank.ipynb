{
 "cells": [
  {
   "cell_type": "code",
   "execution_count": 1,
   "id": "25372219",
   "metadata": {},
   "outputs": [
    {
     "name": "stdout",
     "output_type": "stream",
     "text": [
      "Hello from a function\n"
     ]
    }
   ],
   "source": [
    "def my_function():\n",
    "  print(\"Hello from a function\")\n",
    "\n",
    "my_function()"
   ]
  },
  {
   "cell_type": "code",
   "execution_count": 2,
   "id": "13f84933",
   "metadata": {},
   "outputs": [
    {
     "name": "stdout",
     "output_type": "stream",
     "text": [
      "0\n",
      "1\n",
      "2\n",
      "3\n",
      "4\n",
      "5\n"
     ]
    }
   ],
   "source": [
    "for x in range(6):\n",
    "  print(x)"
   ]
  },
  {
   "cell_type": "code",
   "execution_count": 3,
   "id": "3ec7efe3",
   "metadata": {},
   "outputs": [
    {
     "name": "stdout",
     "output_type": "stream",
     "text": [
      "2\n",
      "3\n",
      "4\n",
      "5\n"
     ]
    }
   ],
   "source": [
    "for x in range(2, 6):\n",
    "  print(x)"
   ]
  },
  {
   "cell_type": "code",
   "execution_count": 32,
   "id": "369deba1",
   "metadata": {},
   "outputs": [
    {
     "name": "stdout",
     "output_type": "stream",
     "text": [
      "1\n",
      "2\n",
      "b is greater than a\n",
      "3\n",
      "b is greater than 4\n",
      "4\n"
     ]
    }
   ],
   "source": [
    "def funcion(n):\n",
    "    for x in range(1,n):\n",
    "        print(x)\n",
    "        if x == 2:\n",
    "            print(\"b is greater than a\")\n",
    "        if x == 3:\n",
    "            print(\"b is greater than 4\")\n",
    "funcion(5)"
   ]
  },
  {
   "cell_type": "code",
   "execution_count": 44,
   "id": "204e9d72",
   "metadata": {},
   "outputs": [
    {
     "name": "stdout",
     "output_type": "stream",
     "text": [
      "1\n",
      "2\n",
      "Fizz multiplo de 3 y no de 5\n",
      "4\n",
      "Buzz multiplo de 5 y no de 3\n",
      "Fizz multiplo de 3 y no de 5\n",
      "7\n",
      "8\n",
      "Fizz multiplo de 3 y no de 5\n",
      "Buzz multiplo de 5 y no de 3\n",
      "11\n",
      "Fizz multiplo de 3 y no de 5\n",
      "13\n",
      "14\n",
      "FizzBuzz multiplo de 3 y 5\n",
      "16\n"
     ]
    }
   ],
   "source": [
    "def funcion(n):\n",
    "    for x in range(1,n+1):\n",
    "#        print(x)\n",
    "        if x%3==0 and x%5==0 :\n",
    "            print(\"FizzBuzz multiplo de 3 y 5\")\n",
    "        elif x%3==0 and x%5!=0 :\n",
    "            print(\"Fizz multiplo de 3 y no de 5\")\n",
    "        elif x%3!=0 and x%5==0 :\n",
    "            print(\"Buzz multiplo de 5 y no de 3\")\n",
    "        else:\n",
    "           print(x) \n",
    "funcion(16)"
   ]
  },
  {
   "cell_type": "code",
   "execution_count": null,
   "id": "18ee74cf",
   "metadata": {},
   "outputs": [],
   "source": []
  }
 ],
 "metadata": {
  "kernelspec": {
   "display_name": "Python 3 (ipykernel)",
   "language": "python",
   "name": "python3"
  },
  "language_info": {
   "codemirror_mode": {
    "name": "ipython",
    "version": 3
   },
   "file_extension": ".py",
   "mimetype": "text/x-python",
   "name": "python",
   "nbconvert_exporter": "python",
   "pygments_lexer": "ipython3",
   "version": "3.8.12"
  }
 },
 "nbformat": 4,
 "nbformat_minor": 5
}

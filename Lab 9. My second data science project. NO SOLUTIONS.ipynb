{
 "cells": [
  {
   "cell_type": "markdown",
   "metadata": {},
   "source": [
    "# Lab 9. My second data science project"
   ]
  },
  {
   "cell_type": "code",
   "execution_count": null,
   "metadata": {},
   "outputs": [],
   "source": []
  },
  {
   "cell_type": "markdown",
   "metadata": {},
   "source": [
    "## In this lab you will apply the concepts and techniques developed in previous sessions. You are expected to work on the assignments on your own DURING the duration of the lab.\n",
    "## You are expected to submit the code developed as well as a brief description of your findings and insights for each assigment AT THE END of the lab. \n",
    "\n",
    "## This lab represents 20% of the total marking of the module¶"
   ]
  },
  {
   "cell_type": "code",
   "execution_count": 3,
   "metadata": {},
   "outputs": [
    {
     "name": "stdout",
     "output_type": "stream",
     "text": [
      "Requirement already satisfied: pandas in c:\\programdata\\anaconda3\\lib\\site-packages (1.1.3)\n",
      "Collecting pandas\n",
      "  Using cached pandas-1.2.3-cp38-cp38-win_amd64.whl (9.3 MB)\n"
     ]
    },
    {
     "name": "stderr",
     "output_type": "stream",
     "text": [
      "WARNING: Error parsing requirements for thinc: [Errno 2] No such file or directory: 'c:\\\\programdata\\\\anaconda3\\\\lib\\\\site-packages\\\\thinc-8.0.1.dist-info\\\\METADATA'\n",
      "WARNING: Error parsing requirements for srsly: [Errno 2] No such file or directory: 'c:\\\\programdata\\\\anaconda3\\\\lib\\\\site-packages\\\\srsly-2.4.0.dist-info\\\\METADATA'\n",
      "WARNING: Error parsing requirements for spacy: [Errno 2] No such file or directory: 'c:\\\\programdata\\\\anaconda3\\\\lib\\\\site-packages\\\\spacy-3.0.3.dist-info\\\\METADATA'\n",
      "WARNING: Error parsing requirements for catalogue: [Errno 2] No such file or directory: 'c:\\\\programdata\\\\anaconda3\\\\lib\\\\site-packages\\\\catalogue-2.0.1.dist-info\\\\METADATA'\n",
      "ERROR: Could not install packages due to an OSError: [WinError 5] Acceso denegado: 'c:\\\\programdata\\\\anaconda3\\\\lib\\\\site-packages\\\\pandas-1.1.3.dist-info\\\\direct_url.json'\n",
      "Consider using the `--user` option or check the permissions.\n",
      "\n"
     ]
    },
    {
     "name": "stdout",
     "output_type": "stream",
     "text": [
      "Requirement already satisfied: python-dateutil>=2.7.3 in c:\\programdata\\anaconda3\\lib\\site-packages (from pandas) (2.8.1)\n",
      "Requirement already satisfied: pytz>=2017.3 in c:\\programdata\\anaconda3\\lib\\site-packages (from pandas) (2020.1)\n",
      "Requirement already satisfied: numpy>=1.16.5 in c:\\programdata\\anaconda3\\lib\\site-packages (from pandas) (1.19.2)\n",
      "Requirement already satisfied: six>=1.5 in c:\\programdata\\anaconda3\\lib\\site-packages (from python-dateutil>=2.7.3->pandas) (1.15.0)\n",
      "Installing collected packages: pandas\n",
      "  Attempting uninstall: pandas\n",
      "    Found existing installation: pandas 1.1.3\n",
      "    Uninstalling pandas-1.1.3:\n"
     ]
    }
   ],
   "source": [
    "!pip install --upgrade pandas"
   ]
  },
  {
   "cell_type": "code",
   "execution_count": 4,
   "metadata": {},
   "outputs": [
    {
     "name": "stdout",
     "output_type": "stream",
     "text": [
      "Requirement already satisfied: py-openaq in c:\\programdata\\anaconda3\\lib\\site-packages (1.1.0)\n"
     ]
    },
    {
     "name": "stderr",
     "output_type": "stream",
     "text": [
      "WARNING: Error parsing requirements for thinc: [Errno 2] No such file or directory: 'c:\\\\programdata\\\\anaconda3\\\\lib\\\\site-packages\\\\thinc-8.0.1.dist-info\\\\METADATA'\n",
      "WARNING: Error parsing requirements for srsly: [Errno 2] No such file or directory: 'c:\\\\programdata\\\\anaconda3\\\\lib\\\\site-packages\\\\srsly-2.4.0.dist-info\\\\METADATA'\n",
      "WARNING: Error parsing requirements for spacy: [Errno 2] No such file or directory: 'c:\\\\programdata\\\\anaconda3\\\\lib\\\\site-packages\\\\spacy-3.0.3.dist-info\\\\METADATA'\n",
      "WARNING: Error parsing requirements for catalogue: [Errno 2] No such file or directory: 'c:\\\\programdata\\\\anaconda3\\\\lib\\\\site-packages\\\\catalogue-2.0.1.dist-info\\\\METADATA'\n"
     ]
    }
   ],
   "source": [
    "!pip install py-openaq"
   ]
  },
  {
   "cell_type": "code",
   "execution_count": 5,
   "metadata": {},
   "outputs": [],
   "source": [
    "import pandas as pd\n",
    "import seaborn as sns"
   ]
  },
  {
   "cell_type": "code",
   "execution_count": 6,
   "metadata": {},
   "outputs": [],
   "source": [
    "import openaq"
   ]
  },
  {
   "cell_type": "code",
   "execution_count": 7,
   "metadata": {},
   "outputs": [
    {
     "data": {
      "text/plain": [
       "'1.1.3'"
      ]
     },
     "execution_count": 7,
     "metadata": {},
     "output_type": "execute_result"
    }
   ],
   "source": [
    "pd.__version__"
   ]
  },
  {
   "cell_type": "code",
   "execution_count": null,
   "metadata": {},
   "outputs": [],
   "source": []
  },
  {
   "cell_type": "code",
   "execution_count": 8,
   "metadata": {},
   "outputs": [],
   "source": [
    "api = openaq.OpenAQ()\n"
   ]
  },
  {
   "cell_type": "code",
   "execution_count": 9,
   "metadata": {},
   "outputs": [
    {
     "name": "stderr",
     "output_type": "stream",
     "text": [
      "C:\\ProgramData\\Anaconda3\\lib\\site-packages\\openaq\\decorators.py:57: FutureWarning: pandas.io.json.json_normalize is deprecated, use pandas.json_normalize instead\n",
      "  data = pd.io.json.json_normalize(resp)\n"
     ]
    }
   ],
   "source": [
    "London = api.measurements(city='London', limit=5000, df=True)\n",
    "Paris = api.measurements(city='Paris', limit=5000, df=True)\n",
    "Madrid = api.measurements(city='Madrid', limit=5000, df=True)\n",
    "Berlin = api.measurements(city='Berlin', limit=5000, df=True)\n",
    "Rome = api.measurements(city='Roma', limit=5000, df=True)\n"
   ]
  },
  {
   "cell_type": "code",
   "execution_count": 10,
   "metadata": {},
   "outputs": [],
   "source": [
    "Cities=pd.concat([London,Paris,Madrid,Berlin,Rome])"
   ]
  },
  {
   "cell_type": "code",
   "execution_count": 11,
   "metadata": {},
   "outputs": [
    {
     "data": {
      "text/html": [
       "<div>\n",
       "<style scoped>\n",
       "    .dataframe tbody tr th:only-of-type {\n",
       "        vertical-align: middle;\n",
       "    }\n",
       "\n",
       "    .dataframe tbody tr th {\n",
       "        vertical-align: top;\n",
       "    }\n",
       "\n",
       "    .dataframe thead th {\n",
       "        text-align: right;\n",
       "    }\n",
       "</style>\n",
       "<table border=\"1\" class=\"dataframe\">\n",
       "  <thead>\n",
       "    <tr style=\"text-align: right;\">\n",
       "      <th></th>\n",
       "      <th>location</th>\n",
       "      <th>parameter</th>\n",
       "      <th>value</th>\n",
       "      <th>unit</th>\n",
       "      <th>country</th>\n",
       "      <th>city</th>\n",
       "      <th>date.utc</th>\n",
       "      <th>coordinates.latitude</th>\n",
       "      <th>coordinates.longitude</th>\n",
       "    </tr>\n",
       "    <tr>\n",
       "      <th>date.local</th>\n",
       "      <th></th>\n",
       "      <th></th>\n",
       "      <th></th>\n",
       "      <th></th>\n",
       "      <th></th>\n",
       "      <th></th>\n",
       "      <th></th>\n",
       "      <th></th>\n",
       "      <th></th>\n",
       "    </tr>\n",
       "  </thead>\n",
       "  <tbody>\n",
       "    <tr>\n",
       "      <th>2021-03-24 02:00:00</th>\n",
       "      <td>London Haringey Priory Park South</td>\n",
       "      <td>o3</td>\n",
       "      <td>71.0</td>\n",
       "      <td>b'\\xc2\\xb5g/m\\xc2\\xb3'</td>\n",
       "      <td>GB</td>\n",
       "      <td>London</td>\n",
       "      <td>2021-03-24 02:00:00+00:00</td>\n",
       "      <td>51.584128</td>\n",
       "      <td>-0.125254</td>\n",
       "    </tr>\n",
       "    <tr>\n",
       "      <th>2021-03-24 02:00:00</th>\n",
       "      <td>Camden Kerbside</td>\n",
       "      <td>pm25</td>\n",
       "      <td>17.0</td>\n",
       "      <td>b'\\xc2\\xb5g/m\\xc2\\xb3'</td>\n",
       "      <td>GB</td>\n",
       "      <td>London</td>\n",
       "      <td>2021-03-24 02:00:00+00:00</td>\n",
       "      <td>51.544210</td>\n",
       "      <td>-0.175269</td>\n",
       "    </tr>\n",
       "    <tr>\n",
       "      <th>2021-03-24 02:00:00</th>\n",
       "      <td>Haringey Roadside</td>\n",
       "      <td>no2</td>\n",
       "      <td>24.0</td>\n",
       "      <td>b'\\xc2\\xb5g/m\\xc2\\xb3'</td>\n",
       "      <td>GB</td>\n",
       "      <td>London</td>\n",
       "      <td>2021-03-24 02:00:00+00:00</td>\n",
       "      <td>51.599300</td>\n",
       "      <td>-0.068218</td>\n",
       "    </tr>\n",
       "    <tr>\n",
       "      <th>2021-03-24 02:00:00</th>\n",
       "      <td>Camden Kerbside</td>\n",
       "      <td>no2</td>\n",
       "      <td>16.0</td>\n",
       "      <td>b'\\xc2\\xb5g/m\\xc2\\xb3'</td>\n",
       "      <td>GB</td>\n",
       "      <td>London</td>\n",
       "      <td>2021-03-24 02:00:00+00:00</td>\n",
       "      <td>51.544210</td>\n",
       "      <td>-0.175269</td>\n",
       "    </tr>\n",
       "    <tr>\n",
       "      <th>2021-03-24 02:00:00</th>\n",
       "      <td>London N. Kensington</td>\n",
       "      <td>pm10</td>\n",
       "      <td>28.0</td>\n",
       "      <td>b'\\xc2\\xb5g/m\\xc2\\xb3'</td>\n",
       "      <td>GB</td>\n",
       "      <td>London</td>\n",
       "      <td>2021-03-24 02:00:00+00:00</td>\n",
       "      <td>51.521050</td>\n",
       "      <td>-0.213492</td>\n",
       "    </tr>\n",
       "    <tr>\n",
       "      <th>...</th>\n",
       "      <td>...</td>\n",
       "      <td>...</td>\n",
       "      <td>...</td>\n",
       "      <td>...</td>\n",
       "      <td>...</td>\n",
       "      <td>...</td>\n",
       "      <td>...</td>\n",
       "      <td>...</td>\n",
       "      <td>...</td>\n",
       "    </tr>\n",
       "    <tr>\n",
       "      <th>2021-03-18 06:00:00</th>\n",
       "      <td>IT2171A</td>\n",
       "      <td>no2</td>\n",
       "      <td>34.0</td>\n",
       "      <td>b'\\xc2\\xb5g/m\\xc2\\xb3'</td>\n",
       "      <td>IT</td>\n",
       "      <td>Roma</td>\n",
       "      <td>2021-03-18 05:00:00+00:00</td>\n",
       "      <td>42.094170</td>\n",
       "      <td>11.795560</td>\n",
       "    </tr>\n",
       "    <tr>\n",
       "      <th>2021-03-18 06:00:00</th>\n",
       "      <td>IT0953A</td>\n",
       "      <td>o3</td>\n",
       "      <td>2.0</td>\n",
       "      <td>b'\\xc2\\xb5g/m\\xc2\\xb3'</td>\n",
       "      <td>IT</td>\n",
       "      <td>Roma</td>\n",
       "      <td>2021-03-18 05:00:00+00:00</td>\n",
       "      <td>41.932778</td>\n",
       "      <td>12.506944</td>\n",
       "    </tr>\n",
       "    <tr>\n",
       "      <th>2021-03-18 06:00:00</th>\n",
       "      <td>IT2012A</td>\n",
       "      <td>so2</td>\n",
       "      <td>1.8</td>\n",
       "      <td>b'\\xc2\\xb5g/m\\xc2\\xb3'</td>\n",
       "      <td>IT</td>\n",
       "      <td>Roma</td>\n",
       "      <td>2021-03-18 05:00:00+00:00</td>\n",
       "      <td>41.875556</td>\n",
       "      <td>12.345000</td>\n",
       "    </tr>\n",
       "    <tr>\n",
       "      <th>2021-03-18 06:00:00</th>\n",
       "      <td>IT2012A</td>\n",
       "      <td>o3</td>\n",
       "      <td>31.0</td>\n",
       "      <td>b'\\xc2\\xb5g/m\\xc2\\xb3'</td>\n",
       "      <td>IT</td>\n",
       "      <td>Roma</td>\n",
       "      <td>2021-03-18 05:00:00+00:00</td>\n",
       "      <td>41.875556</td>\n",
       "      <td>12.345000</td>\n",
       "    </tr>\n",
       "    <tr>\n",
       "      <th>2021-03-18 06:00:00</th>\n",
       "      <td>IT0885A</td>\n",
       "      <td>no2</td>\n",
       "      <td>15.0</td>\n",
       "      <td>b'\\xc2\\xb5g/m\\xc2\\xb3'</td>\n",
       "      <td>IT</td>\n",
       "      <td>Roma</td>\n",
       "      <td>2021-03-18 05:00:00+00:00</td>\n",
       "      <td>42.091667</td>\n",
       "      <td>11.802500</td>\n",
       "    </tr>\n",
       "  </tbody>\n",
       "</table>\n",
       "<p>25979 rows × 9 columns</p>\n",
       "</div>"
      ],
      "text/plain": [
       "                                              location parameter  value  \\\n",
       "date.local                                                                \n",
       "2021-03-24 02:00:00  London Haringey Priory Park South        o3   71.0   \n",
       "2021-03-24 02:00:00                    Camden Kerbside      pm25   17.0   \n",
       "2021-03-24 02:00:00                  Haringey Roadside       no2   24.0   \n",
       "2021-03-24 02:00:00                    Camden Kerbside       no2   16.0   \n",
       "2021-03-24 02:00:00               London N. Kensington      pm10   28.0   \n",
       "...                                                ...       ...    ...   \n",
       "2021-03-18 06:00:00                            IT2171A       no2   34.0   \n",
       "2021-03-18 06:00:00                            IT0953A        o3    2.0   \n",
       "2021-03-18 06:00:00                            IT2012A       so2    1.8   \n",
       "2021-03-18 06:00:00                            IT2012A        o3   31.0   \n",
       "2021-03-18 06:00:00                            IT0885A       no2   15.0   \n",
       "\n",
       "                                       unit country    city  \\\n",
       "date.local                                                    \n",
       "2021-03-24 02:00:00  b'\\xc2\\xb5g/m\\xc2\\xb3'      GB  London   \n",
       "2021-03-24 02:00:00  b'\\xc2\\xb5g/m\\xc2\\xb3'      GB  London   \n",
       "2021-03-24 02:00:00  b'\\xc2\\xb5g/m\\xc2\\xb3'      GB  London   \n",
       "2021-03-24 02:00:00  b'\\xc2\\xb5g/m\\xc2\\xb3'      GB  London   \n",
       "2021-03-24 02:00:00  b'\\xc2\\xb5g/m\\xc2\\xb3'      GB  London   \n",
       "...                                     ...     ...     ...   \n",
       "2021-03-18 06:00:00  b'\\xc2\\xb5g/m\\xc2\\xb3'      IT    Roma   \n",
       "2021-03-18 06:00:00  b'\\xc2\\xb5g/m\\xc2\\xb3'      IT    Roma   \n",
       "2021-03-18 06:00:00  b'\\xc2\\xb5g/m\\xc2\\xb3'      IT    Roma   \n",
       "2021-03-18 06:00:00  b'\\xc2\\xb5g/m\\xc2\\xb3'      IT    Roma   \n",
       "2021-03-18 06:00:00  b'\\xc2\\xb5g/m\\xc2\\xb3'      IT    Roma   \n",
       "\n",
       "                                     date.utc  coordinates.latitude  \\\n",
       "date.local                                                            \n",
       "2021-03-24 02:00:00 2021-03-24 02:00:00+00:00             51.584128   \n",
       "2021-03-24 02:00:00 2021-03-24 02:00:00+00:00             51.544210   \n",
       "2021-03-24 02:00:00 2021-03-24 02:00:00+00:00             51.599300   \n",
       "2021-03-24 02:00:00 2021-03-24 02:00:00+00:00             51.544210   \n",
       "2021-03-24 02:00:00 2021-03-24 02:00:00+00:00             51.521050   \n",
       "...                                       ...                   ...   \n",
       "2021-03-18 06:00:00 2021-03-18 05:00:00+00:00             42.094170   \n",
       "2021-03-18 06:00:00 2021-03-18 05:00:00+00:00             41.932778   \n",
       "2021-03-18 06:00:00 2021-03-18 05:00:00+00:00             41.875556   \n",
       "2021-03-18 06:00:00 2021-03-18 05:00:00+00:00             41.875556   \n",
       "2021-03-18 06:00:00 2021-03-18 05:00:00+00:00             42.091667   \n",
       "\n",
       "                     coordinates.longitude  \n",
       "date.local                                  \n",
       "2021-03-24 02:00:00              -0.125254  \n",
       "2021-03-24 02:00:00              -0.175269  \n",
       "2021-03-24 02:00:00              -0.068218  \n",
       "2021-03-24 02:00:00              -0.175269  \n",
       "2021-03-24 02:00:00              -0.213492  \n",
       "...                                    ...  \n",
       "2021-03-18 06:00:00              11.795560  \n",
       "2021-03-18 06:00:00              12.506944  \n",
       "2021-03-18 06:00:00              12.345000  \n",
       "2021-03-18 06:00:00              12.345000  \n",
       "2021-03-18 06:00:00              11.802500  \n",
       "\n",
       "[25979 rows x 9 columns]"
      ]
     },
     "execution_count": 11,
     "metadata": {},
     "output_type": "execute_result"
    }
   ],
   "source": [
    "Cities"
   ]
  },
  {
   "cell_type": "code",
   "execution_count": null,
   "metadata": {},
   "outputs": [],
   "source": []
  },
  {
   "cell_type": "code",
   "execution_count": 12,
   "metadata": {},
   "outputs": [
    {
     "name": "stdout",
     "output_type": "stream",
     "text": [
      "<class 'pandas.core.frame.DataFrame'>\n",
      "DatetimeIndex: 25979 entries, 2021-03-24 02:00:00 to 2021-03-18 06:00:00\n",
      "Data columns (total 9 columns):\n",
      " #   Column                 Non-Null Count  Dtype              \n",
      "---  ------                 --------------  -----              \n",
      " 0   location               25979 non-null  object             \n",
      " 1   parameter              25979 non-null  object             \n",
      " 2   value                  25979 non-null  float64            \n",
      " 3   unit                   25979 non-null  object             \n",
      " 4   country                25979 non-null  object             \n",
      " 5   city                   25979 non-null  object             \n",
      " 6   date.utc               25979 non-null  datetime64[ns, UTC]\n",
      " 7   coordinates.latitude   25979 non-null  float64            \n",
      " 8   coordinates.longitude  25979 non-null  float64            \n",
      "dtypes: datetime64[ns, UTC](1), float64(3), object(5)\n",
      "memory usage: 2.0+ MB\n"
     ]
    }
   ],
   "source": [
    "Cities.info()"
   ]
  },
  {
   "cell_type": "code",
   "execution_count": 13,
   "metadata": {},
   "outputs": [
    {
     "data": {
      "text/html": [
       "<div>\n",
       "<style scoped>\n",
       "    .dataframe tbody tr th:only-of-type {\n",
       "        vertical-align: middle;\n",
       "    }\n",
       "\n",
       "    .dataframe tbody tr th {\n",
       "        vertical-align: top;\n",
       "    }\n",
       "\n",
       "    .dataframe thead th {\n",
       "        text-align: right;\n",
       "    }\n",
       "</style>\n",
       "<table border=\"1\" class=\"dataframe\">\n",
       "  <thead>\n",
       "    <tr style=\"text-align: right;\">\n",
       "      <th></th>\n",
       "      <th>location</th>\n",
       "      <th>value</th>\n",
       "      <th>unit</th>\n",
       "      <th>country</th>\n",
       "      <th>city</th>\n",
       "      <th>date.utc</th>\n",
       "      <th>coordinates.latitude</th>\n",
       "      <th>coordinates.longitude</th>\n",
       "    </tr>\n",
       "    <tr>\n",
       "      <th>parameter</th>\n",
       "      <th></th>\n",
       "      <th></th>\n",
       "      <th></th>\n",
       "      <th></th>\n",
       "      <th></th>\n",
       "      <th></th>\n",
       "      <th></th>\n",
       "      <th></th>\n",
       "    </tr>\n",
       "  </thead>\n",
       "  <tbody>\n",
       "    <tr>\n",
       "      <th>co</th>\n",
       "      <td>1272</td>\n",
       "      <td>1272</td>\n",
       "      <td>1272</td>\n",
       "      <td>1272</td>\n",
       "      <td>1272</td>\n",
       "      <td>1272</td>\n",
       "      <td>1272</td>\n",
       "      <td>1272</td>\n",
       "    </tr>\n",
       "    <tr>\n",
       "      <th>no2</th>\n",
       "      <td>10859</td>\n",
       "      <td>10859</td>\n",
       "      <td>10859</td>\n",
       "      <td>10859</td>\n",
       "      <td>10859</td>\n",
       "      <td>10859</td>\n",
       "      <td>10859</td>\n",
       "      <td>10859</td>\n",
       "    </tr>\n",
       "    <tr>\n",
       "      <th>o3</th>\n",
       "      <td>5803</td>\n",
       "      <td>5803</td>\n",
       "      <td>5803</td>\n",
       "      <td>5803</td>\n",
       "      <td>5803</td>\n",
       "      <td>5803</td>\n",
       "      <td>5803</td>\n",
       "      <td>5803</td>\n",
       "    </tr>\n",
       "    <tr>\n",
       "      <th>pm10</th>\n",
       "      <td>5115</td>\n",
       "      <td>5115</td>\n",
       "      <td>5115</td>\n",
       "      <td>5115</td>\n",
       "      <td>5115</td>\n",
       "      <td>5115</td>\n",
       "      <td>5115</td>\n",
       "      <td>5115</td>\n",
       "    </tr>\n",
       "    <tr>\n",
       "      <th>pm25</th>\n",
       "      <td>1951</td>\n",
       "      <td>1951</td>\n",
       "      <td>1951</td>\n",
       "      <td>1951</td>\n",
       "      <td>1951</td>\n",
       "      <td>1951</td>\n",
       "      <td>1951</td>\n",
       "      <td>1951</td>\n",
       "    </tr>\n",
       "    <tr>\n",
       "      <th>so2</th>\n",
       "      <td>979</td>\n",
       "      <td>979</td>\n",
       "      <td>979</td>\n",
       "      <td>979</td>\n",
       "      <td>979</td>\n",
       "      <td>979</td>\n",
       "      <td>979</td>\n",
       "      <td>979</td>\n",
       "    </tr>\n",
       "  </tbody>\n",
       "</table>\n",
       "</div>"
      ],
      "text/plain": [
       "           location  value   unit  country   city  date.utc  \\\n",
       "parameter                                                     \n",
       "co             1272   1272   1272     1272   1272      1272   \n",
       "no2           10859  10859  10859    10859  10859     10859   \n",
       "o3             5803   5803   5803     5803   5803      5803   \n",
       "pm10           5115   5115   5115     5115   5115      5115   \n",
       "pm25           1951   1951   1951     1951   1951      1951   \n",
       "so2             979    979    979      979    979       979   \n",
       "\n",
       "           coordinates.latitude  coordinates.longitude  \n",
       "parameter                                               \n",
       "co                         1272                   1272  \n",
       "no2                       10859                  10859  \n",
       "o3                         5803                   5803  \n",
       "pm10                       5115                   5115  \n",
       "pm25                       1951                   1951  \n",
       "so2                         979                    979  "
      ]
     },
     "execution_count": 13,
     "metadata": {},
     "output_type": "execute_result"
    }
   ],
   "source": [
    "Cities.groupby('parameter').count()"
   ]
  },
  {
   "cell_type": "code",
   "execution_count": null,
   "metadata": {},
   "outputs": [],
   "source": []
  },
  {
   "cell_type": "code",
   "execution_count": null,
   "metadata": {},
   "outputs": [],
   "source": []
  },
  {
   "cell_type": "code",
   "execution_count": null,
   "metadata": {},
   "outputs": [],
   "source": []
  },
  {
   "cell_type": "markdown",
   "metadata": {},
   "source": [
    "### Assignment 9.1. Compute the average values for each parameter and city\n",
    "\n",
    "#### Tip: consider groupby command"
   ]
  },
  {
   "cell_type": "code",
   "execution_count": null,
   "metadata": {},
   "outputs": [],
   "source": []
  },
  {
   "cell_type": "code",
   "execution_count": null,
   "metadata": {},
   "outputs": [],
   "source": []
  },
  {
   "cell_type": "code",
   "execution_count": null,
   "metadata": {},
   "outputs": [],
   "source": []
  },
  {
   "cell_type": "markdown",
   "metadata": {},
   "source": [
    "### Asignment 9.2. Which city is the most polluted in terms of co, no2 and pm10?\n",
    "\n",
    "### Tip. consider: https://seaborn.pydata.org/generated/seaborn.lineplot.html"
   ]
  },
  {
   "cell_type": "code",
   "execution_count": null,
   "metadata": {},
   "outputs": [],
   "source": []
  },
  {
   "cell_type": "code",
   "execution_count": null,
   "metadata": {},
   "outputs": [],
   "source": []
  },
  {
   "cell_type": "markdown",
   "metadata": {},
   "source": [
    "### Asignment 9.3. Is there any relationship between levels of pollution ?\n",
    "\n",
    "### Tip: \n",
    "\n",
    "1. Consider the pivot_table operation, refer to Lab 6.\n",
    "2. Consider  https://seaborn.pydata.org/examples/scatterplot_matrix.html "
   ]
  },
  {
   "cell_type": "code",
   "execution_count": null,
   "metadata": {},
   "outputs": [],
   "source": []
  },
  {
   "cell_type": "code",
   "execution_count": null,
   "metadata": {},
   "outputs": [],
   "source": []
  },
  {
   "cell_type": "code",
   "execution_count": null,
   "metadata": {},
   "outputs": [],
   "source": []
  },
  {
   "cell_type": "code",
   "execution_count": null,
   "metadata": {},
   "outputs": [],
   "source": []
  },
  {
   "cell_type": "code",
   "execution_count": null,
   "metadata": {},
   "outputs": [],
   "source": []
  }
 ],
 "metadata": {
  "kernelspec": {
   "display_name": "Python 3",
   "language": "python",
   "name": "python3"
  },
  "language_info": {
   "codemirror_mode": {
    "name": "ipython",
    "version": 3
   },
   "file_extension": ".py",
   "mimetype": "text/x-python",
   "name": "python",
   "nbconvert_exporter": "python",
   "pygments_lexer": "ipython3",
   "version": "3.8.5"
  }
 },
 "nbformat": 4,
 "nbformat_minor": 4
}
